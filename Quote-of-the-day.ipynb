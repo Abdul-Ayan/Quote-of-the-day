{
 "cells": [
  {
   "cell_type": "code",
   "execution_count": null,
   "id": "8849f165-3248-427f-b80d-2dc1d91c6d07",
   "metadata": {},
   "outputs": [
    {
     "name": "stdout",
     "output_type": "stream",
     "text": [
      "Welcome to Quote of the Day App!\n"
     ]
    },
    {
     "name": "stdin",
     "output_type": "stream",
     "text": [
      "Press Enter to get a quote or type 'quit' to exit:  \n"
     ]
    },
    {
     "name": "stdout",
     "output_type": "stream",
     "text": [
      "Here's your quote for the day:\n",
      "The best time to plant a tree was 20 years ago. The second best time is now. - Chinese Proverb\n"
     ]
    }
   ],
   "source": [
    "import random\n",
    "\n",
    "class QuoteOfTheDay:\n",
    "    def __init__(self):\n",
    "        self.quotes = [\n",
    "            \"The only way to do great work is to love what you do. - Steve Jobs\",\n",
    "            \"Innovation distinguishes between a leader and a follower. - Steve Jobs\",\n",
    "            \"Life is 10% what happens to us and 90% how we react to it. - Charles R. Swindoll\",\n",
    "            \"Believe you can and you're halfway there. - Theodore Roosevelt\",\n",
    "            \"The only impossible journey is the one you never begin. - Tony Robbins\",\n",
    "            \"The best time to plant a tree was 20 years ago. The second best time is now. - Chinese Proverb\"\n",
    "        ]\n",
    "\n",
    "    def get_quote(self):\n",
    "        return random.choice(self.quotes)\n",
    "\n",
    "def main():\n",
    "    quote_app = QuoteOfTheDay()\n",
    "    print(\"Welcome to Quote of the Day App!\")\n",
    "\n",
    "    while True:\n",
    "        input(\"Press Enter to get a quote or type 'quit' to exit: \")\n",
    "        quote = quote_app.get_quote()\n",
    "        print(\"Here's your quote for the day:\")\n",
    "        print(quote)\n",
    "\n",
    "        choice = input(\"\\nDo you want to get another quote? (yes/no): \").lower()\n",
    "        if choice != \"yes\":\n",
    "            print(\"Exiting...\")\n",
    "            break\n",
    "\n",
    "if __name__ == \"__main__\":\n",
    "    main()\n"
   ]
  },
  {
   "cell_type": "code",
   "execution_count": null,
   "id": "f0438d93-cf79-4bf9-8ad8-32718eed501d",
   "metadata": {},
   "outputs": [],
   "source": []
  }
 ],
 "metadata": {
  "kernelspec": {
   "display_name": "Python 3 (ipykernel)",
   "language": "python",
   "name": "python3"
  },
  "language_info": {
   "codemirror_mode": {
    "name": "ipython",
    "version": 3
   },
   "file_extension": ".py",
   "mimetype": "text/x-python",
   "name": "python",
   "nbconvert_exporter": "python",
   "pygments_lexer": "ipython3",
   "version": "3.12.3"
  }
 },
 "nbformat": 4,
 "nbformat_minor": 5
}
